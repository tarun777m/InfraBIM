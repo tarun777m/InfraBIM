{
  "nbformat": 4,
  "nbformat_minor": 0,
  "metadata": {
    "colab": {
      "provenance": [],
      "collapsed_sections": []
    },
    "kernelspec": {
      "name": "python3",
      "display_name": "Python 3"
    },
    "language_info": {
      "name": "python"
    }
  },
  "cells": [
    {
      "cell_type": "markdown",
      "source": [
        "Reg No:3010\n",
        "\n",
        "Name:Tarun Mallik\n",
        "\n",
        "Date:19/10/2022"
      ],
      "metadata": {
        "id": "fvrao-Nz6uyT"
      }
    },
    {
      "cell_type": "code",
      "source": [
        "#Importing Libraries\n",
        "import pandas as pd \n",
        "import numpy as np\n",
        "import matplotlib.pyplot as plt"
      ],
      "metadata": {
        "id": "5NPgtYh46moI"
      },
      "execution_count": 33,
      "outputs": []
    },
    {
      "cell_type": "markdown",
      "source": [
        "**Loading Dataset**"
      ],
      "metadata": {
        "id": "8dfIQaYhb7nB"
      }
    },
    {
      "cell_type": "code",
      "source": [
        "data =pd.read_csv(\"/content/Enrollments_28092022.csv\")\n",
        "data"
      ],
      "metadata": {
        "colab": {
          "base_uri": "https://localhost:8080/",
          "height": 424
        },
        "id": "CCGcrNAa8emE",
        "outputId": "dafbb8ee-2a92-4fed-bfb8-e15337965099"
      },
      "execution_count": 34,
      "outputs": [
        {
          "output_type": "execute_result",
          "data": {
            "text/plain": [
              "     StudentNo  DEGREE  INTERMEDIATE   SSC                      INTERNSHIP\n",
              "0         1001    8.10          76.0  92.0                    Data Science\n",
              "1         1002    8.10          76.0  92.0      MEAN Stack Web Development\n",
              "2         1003    7.80          94.6  92.0      MEAN Stack Web Development\n",
              "3         1004    9.03          89.5  89.0                    Data Science\n",
              "4         1005    8.38          87.0  90.0      MEAN Stack Web Development\n",
              "..         ...     ...           ...   ...                             ...\n",
              "292       2188    8.70          94.1  93.0                    Data Science\n",
              "293       2189    8.45          90.0  93.0                    Data Science\n",
              "294       2190    8.40          94.9  98.0                    Data Science\n",
              "295       2191    7.06          90.6  88.0  Cloud Computing Services (AWS)\n",
              "296       2192    7.50          95.5  95.0  Cloud Computing Services (AWS)\n",
              "\n",
              "[297 rows x 5 columns]"
            ],
            "text/html": [
              "\n",
              "  <div id=\"df-4e9744d5-e4fa-4174-b945-fb6ec47730a7\">\n",
              "    <div class=\"colab-df-container\">\n",
              "      <div>\n",
              "<style scoped>\n",
              "    .dataframe tbody tr th:only-of-type {\n",
              "        vertical-align: middle;\n",
              "    }\n",
              "\n",
              "    .dataframe tbody tr th {\n",
              "        vertical-align: top;\n",
              "    }\n",
              "\n",
              "    .dataframe thead th {\n",
              "        text-align: right;\n",
              "    }\n",
              "</style>\n",
              "<table border=\"1\" class=\"dataframe\">\n",
              "  <thead>\n",
              "    <tr style=\"text-align: right;\">\n",
              "      <th></th>\n",
              "      <th>StudentNo</th>\n",
              "      <th>DEGREE</th>\n",
              "      <th>INTERMEDIATE</th>\n",
              "      <th>SSC</th>\n",
              "      <th>INTERNSHIP</th>\n",
              "    </tr>\n",
              "  </thead>\n",
              "  <tbody>\n",
              "    <tr>\n",
              "      <th>0</th>\n",
              "      <td>1001</td>\n",
              "      <td>8.10</td>\n",
              "      <td>76.0</td>\n",
              "      <td>92.0</td>\n",
              "      <td>Data Science</td>\n",
              "    </tr>\n",
              "    <tr>\n",
              "      <th>1</th>\n",
              "      <td>1002</td>\n",
              "      <td>8.10</td>\n",
              "      <td>76.0</td>\n",
              "      <td>92.0</td>\n",
              "      <td>MEAN Stack Web Development</td>\n",
              "    </tr>\n",
              "    <tr>\n",
              "      <th>2</th>\n",
              "      <td>1003</td>\n",
              "      <td>7.80</td>\n",
              "      <td>94.6</td>\n",
              "      <td>92.0</td>\n",
              "      <td>MEAN Stack Web Development</td>\n",
              "    </tr>\n",
              "    <tr>\n",
              "      <th>3</th>\n",
              "      <td>1004</td>\n",
              "      <td>9.03</td>\n",
              "      <td>89.5</td>\n",
              "      <td>89.0</td>\n",
              "      <td>Data Science</td>\n",
              "    </tr>\n",
              "    <tr>\n",
              "      <th>4</th>\n",
              "      <td>1005</td>\n",
              "      <td>8.38</td>\n",
              "      <td>87.0</td>\n",
              "      <td>90.0</td>\n",
              "      <td>MEAN Stack Web Development</td>\n",
              "    </tr>\n",
              "    <tr>\n",
              "      <th>...</th>\n",
              "      <td>...</td>\n",
              "      <td>...</td>\n",
              "      <td>...</td>\n",
              "      <td>...</td>\n",
              "      <td>...</td>\n",
              "    </tr>\n",
              "    <tr>\n",
              "      <th>292</th>\n",
              "      <td>2188</td>\n",
              "      <td>8.70</td>\n",
              "      <td>94.1</td>\n",
              "      <td>93.0</td>\n",
              "      <td>Data Science</td>\n",
              "    </tr>\n",
              "    <tr>\n",
              "      <th>293</th>\n",
              "      <td>2189</td>\n",
              "      <td>8.45</td>\n",
              "      <td>90.0</td>\n",
              "      <td>93.0</td>\n",
              "      <td>Data Science</td>\n",
              "    </tr>\n",
              "    <tr>\n",
              "      <th>294</th>\n",
              "      <td>2190</td>\n",
              "      <td>8.40</td>\n",
              "      <td>94.9</td>\n",
              "      <td>98.0</td>\n",
              "      <td>Data Science</td>\n",
              "    </tr>\n",
              "    <tr>\n",
              "      <th>295</th>\n",
              "      <td>2191</td>\n",
              "      <td>7.06</td>\n",
              "      <td>90.6</td>\n",
              "      <td>88.0</td>\n",
              "      <td>Cloud Computing Services (AWS)</td>\n",
              "    </tr>\n",
              "    <tr>\n",
              "      <th>296</th>\n",
              "      <td>2192</td>\n",
              "      <td>7.50</td>\n",
              "      <td>95.5</td>\n",
              "      <td>95.0</td>\n",
              "      <td>Cloud Computing Services (AWS)</td>\n",
              "    </tr>\n",
              "  </tbody>\n",
              "</table>\n",
              "<p>297 rows × 5 columns</p>\n",
              "</div>\n",
              "      <button class=\"colab-df-convert\" onclick=\"convertToInteractive('df-4e9744d5-e4fa-4174-b945-fb6ec47730a7')\"\n",
              "              title=\"Convert this dataframe to an interactive table.\"\n",
              "              style=\"display:none;\">\n",
              "        \n",
              "  <svg xmlns=\"http://www.w3.org/2000/svg\" height=\"24px\"viewBox=\"0 0 24 24\"\n",
              "       width=\"24px\">\n",
              "    <path d=\"M0 0h24v24H0V0z\" fill=\"none\"/>\n",
              "    <path d=\"M18.56 5.44l.94 2.06.94-2.06 2.06-.94-2.06-.94-.94-2.06-.94 2.06-2.06.94zm-11 1L8.5 8.5l.94-2.06 2.06-.94-2.06-.94L8.5 2.5l-.94 2.06-2.06.94zm10 10l.94 2.06.94-2.06 2.06-.94-2.06-.94-.94-2.06-.94 2.06-2.06.94z\"/><path d=\"M17.41 7.96l-1.37-1.37c-.4-.4-.92-.59-1.43-.59-.52 0-1.04.2-1.43.59L10.3 9.45l-7.72 7.72c-.78.78-.78 2.05 0 2.83L4 21.41c.39.39.9.59 1.41.59.51 0 1.02-.2 1.41-.59l7.78-7.78 2.81-2.81c.8-.78.8-2.07 0-2.86zM5.41 20L4 18.59l7.72-7.72 1.47 1.35L5.41 20z\"/>\n",
              "  </svg>\n",
              "      </button>\n",
              "      \n",
              "  <style>\n",
              "    .colab-df-container {\n",
              "      display:flex;\n",
              "      flex-wrap:wrap;\n",
              "      gap: 12px;\n",
              "    }\n",
              "\n",
              "    .colab-df-convert {\n",
              "      background-color: #E8F0FE;\n",
              "      border: none;\n",
              "      border-radius: 50%;\n",
              "      cursor: pointer;\n",
              "      display: none;\n",
              "      fill: #1967D2;\n",
              "      height: 32px;\n",
              "      padding: 0 0 0 0;\n",
              "      width: 32px;\n",
              "    }\n",
              "\n",
              "    .colab-df-convert:hover {\n",
              "      background-color: #E2EBFA;\n",
              "      box-shadow: 0px 1px 2px rgba(60, 64, 67, 0.3), 0px 1px 3px 1px rgba(60, 64, 67, 0.15);\n",
              "      fill: #174EA6;\n",
              "    }\n",
              "\n",
              "    [theme=dark] .colab-df-convert {\n",
              "      background-color: #3B4455;\n",
              "      fill: #D2E3FC;\n",
              "    }\n",
              "\n",
              "    [theme=dark] .colab-df-convert:hover {\n",
              "      background-color: #434B5C;\n",
              "      box-shadow: 0px 1px 3px 1px rgba(0, 0, 0, 0.15);\n",
              "      filter: drop-shadow(0px 1px 2px rgba(0, 0, 0, 0.3));\n",
              "      fill: #FFFFFF;\n",
              "    }\n",
              "  </style>\n",
              "\n",
              "      <script>\n",
              "        const buttonEl =\n",
              "          document.querySelector('#df-4e9744d5-e4fa-4174-b945-fb6ec47730a7 button.colab-df-convert');\n",
              "        buttonEl.style.display =\n",
              "          google.colab.kernel.accessAllowed ? 'block' : 'none';\n",
              "\n",
              "        async function convertToInteractive(key) {\n",
              "          const element = document.querySelector('#df-4e9744d5-e4fa-4174-b945-fb6ec47730a7');\n",
              "          const dataTable =\n",
              "            await google.colab.kernel.invokeFunction('convertToInteractive',\n",
              "                                                     [key], {});\n",
              "          if (!dataTable) return;\n",
              "\n",
              "          const docLinkHtml = 'Like what you see? Visit the ' +\n",
              "            '<a target=\"_blank\" href=https://colab.research.google.com/notebooks/data_table.ipynb>data table notebook</a>'\n",
              "            + ' to learn more about interactive tables.';\n",
              "          element.innerHTML = '';\n",
              "          dataTable['output_type'] = 'display_data';\n",
              "          await google.colab.output.renderOutput(dataTable, element);\n",
              "          const docLink = document.createElement('div');\n",
              "          docLink.innerHTML = docLinkHtml;\n",
              "          element.appendChild(docLink);\n",
              "        }\n",
              "      </script>\n",
              "    </div>\n",
              "  </div>\n",
              "  "
            ]
          },
          "metadata": {},
          "execution_count": 34
        }
      ]
    },
    {
      "cell_type": "markdown",
      "source": [
        "Q1. Identify Variables and their Types (Quantitative or Qualitative)"
      ],
      "metadata": {
        "id": "VZRcVocjcQPk"
      }
    },
    {
      "cell_type": "code",
      "source": [
        "data.info()"
      ],
      "metadata": {
        "colab": {
          "base_uri": "https://localhost:8080/"
        },
        "id": "UF2sRuapCkFc",
        "outputId": "8376ab68-fe8d-489b-a210-2fd9e967d019"
      },
      "execution_count": 5,
      "outputs": [
        {
          "output_type": "stream",
          "name": "stdout",
          "text": [
            "<class 'pandas.core.frame.DataFrame'>\n",
            "RangeIndex: 297 entries, 0 to 296\n",
            "Data columns (total 5 columns):\n",
            " #   Column        Non-Null Count  Dtype  \n",
            "---  ------        --------------  -----  \n",
            " 0   StudentNo     297 non-null    int64  \n",
            " 1   DEGREE        297 non-null    float64\n",
            " 2   INTERMEDIATE  297 non-null    float64\n",
            " 3   SSC           297 non-null    float64\n",
            " 4   INTERNSHIP    297 non-null    object \n",
            "dtypes: float64(3), int64(1), object(1)\n",
            "memory usage: 11.7+ KB\n"
          ]
        }
      ]
    },
    {
      "cell_type": "code",
      "source": [
        "data['StudentNo'] = data['StudentNo'].apply(str)"
      ],
      "metadata": {
        "id": "xHeu0xyOc9DD"
      },
      "execution_count": 35,
      "outputs": []
    },
    {
      "cell_type": "code",
      "source": [
        "data.info()"
      ],
      "metadata": {
        "colab": {
          "base_uri": "https://localhost:8080/"
        },
        "id": "zoX6aDBFdFO_",
        "outputId": "6f14b5c1-c748-410d-add9-f02b9208c8cb"
      },
      "execution_count": 36,
      "outputs": [
        {
          "output_type": "stream",
          "name": "stdout",
          "text": [
            "<class 'pandas.core.frame.DataFrame'>\n",
            "RangeIndex: 297 entries, 0 to 296\n",
            "Data columns (total 5 columns):\n",
            " #   Column        Non-Null Count  Dtype  \n",
            "---  ------        --------------  -----  \n",
            " 0   StudentNo     297 non-null    object \n",
            " 1   DEGREE        297 non-null    float64\n",
            " 2   INTERMEDIATE  297 non-null    float64\n",
            " 3   SSC           297 non-null    float64\n",
            " 4   INTERNSHIP    297 non-null    object \n",
            "dtypes: float64(3), object(2)\n",
            "memory usage: 11.7+ KB\n"
          ]
        }
      ]
    },
    {
      "cell_type": "code",
      "source": [
        "data.describe()"
      ],
      "metadata": {
        "colab": {
          "base_uri": "https://localhost:8080/",
          "height": 300
        },
        "id": "BxH0Yig1dRWT",
        "outputId": "3db395ce-6acc-4136-c782-fddacad8ebb9"
      },
      "execution_count": 38,
      "outputs": [
        {
          "output_type": "execute_result",
          "data": {
            "text/plain": [
              "           DEGREE  INTERMEDIATE         SSC\n",
              "count  297.000000    297.000000  297.000000\n",
              "mean     7.928081     88.662626   88.106734\n",
              "std      0.785579      7.355733    9.027984\n",
              "min      5.800000     65.000000   38.400000\n",
              "25%      7.400000     83.000000   85.000000\n",
              "50%      8.000000     90.800000   90.000000\n",
              "75%      8.560000     94.600000   95.000000\n",
              "max      9.530000     99.400000   99.000000"
            ],
            "text/html": [
              "\n",
              "  <div id=\"df-ad9356b5-b001-4f29-b365-49411cfba041\">\n",
              "    <div class=\"colab-df-container\">\n",
              "      <div>\n",
              "<style scoped>\n",
              "    .dataframe tbody tr th:only-of-type {\n",
              "        vertical-align: middle;\n",
              "    }\n",
              "\n",
              "    .dataframe tbody tr th {\n",
              "        vertical-align: top;\n",
              "    }\n",
              "\n",
              "    .dataframe thead th {\n",
              "        text-align: right;\n",
              "    }\n",
              "</style>\n",
              "<table border=\"1\" class=\"dataframe\">\n",
              "  <thead>\n",
              "    <tr style=\"text-align: right;\">\n",
              "      <th></th>\n",
              "      <th>DEGREE</th>\n",
              "      <th>INTERMEDIATE</th>\n",
              "      <th>SSC</th>\n",
              "    </tr>\n",
              "  </thead>\n",
              "  <tbody>\n",
              "    <tr>\n",
              "      <th>count</th>\n",
              "      <td>297.000000</td>\n",
              "      <td>297.000000</td>\n",
              "      <td>297.000000</td>\n",
              "    </tr>\n",
              "    <tr>\n",
              "      <th>mean</th>\n",
              "      <td>7.928081</td>\n",
              "      <td>88.662626</td>\n",
              "      <td>88.106734</td>\n",
              "    </tr>\n",
              "    <tr>\n",
              "      <th>std</th>\n",
              "      <td>0.785579</td>\n",
              "      <td>7.355733</td>\n",
              "      <td>9.027984</td>\n",
              "    </tr>\n",
              "    <tr>\n",
              "      <th>min</th>\n",
              "      <td>5.800000</td>\n",
              "      <td>65.000000</td>\n",
              "      <td>38.400000</td>\n",
              "    </tr>\n",
              "    <tr>\n",
              "      <th>25%</th>\n",
              "      <td>7.400000</td>\n",
              "      <td>83.000000</td>\n",
              "      <td>85.000000</td>\n",
              "    </tr>\n",
              "    <tr>\n",
              "      <th>50%</th>\n",
              "      <td>8.000000</td>\n",
              "      <td>90.800000</td>\n",
              "      <td>90.000000</td>\n",
              "    </tr>\n",
              "    <tr>\n",
              "      <th>75%</th>\n",
              "      <td>8.560000</td>\n",
              "      <td>94.600000</td>\n",
              "      <td>95.000000</td>\n",
              "    </tr>\n",
              "    <tr>\n",
              "      <th>max</th>\n",
              "      <td>9.530000</td>\n",
              "      <td>99.400000</td>\n",
              "      <td>99.000000</td>\n",
              "    </tr>\n",
              "  </tbody>\n",
              "</table>\n",
              "</div>\n",
              "      <button class=\"colab-df-convert\" onclick=\"convertToInteractive('df-ad9356b5-b001-4f29-b365-49411cfba041')\"\n",
              "              title=\"Convert this dataframe to an interactive table.\"\n",
              "              style=\"display:none;\">\n",
              "        \n",
              "  <svg xmlns=\"http://www.w3.org/2000/svg\" height=\"24px\"viewBox=\"0 0 24 24\"\n",
              "       width=\"24px\">\n",
              "    <path d=\"M0 0h24v24H0V0z\" fill=\"none\"/>\n",
              "    <path d=\"M18.56 5.44l.94 2.06.94-2.06 2.06-.94-2.06-.94-.94-2.06-.94 2.06-2.06.94zm-11 1L8.5 8.5l.94-2.06 2.06-.94-2.06-.94L8.5 2.5l-.94 2.06-2.06.94zm10 10l.94 2.06.94-2.06 2.06-.94-2.06-.94-.94-2.06-.94 2.06-2.06.94z\"/><path d=\"M17.41 7.96l-1.37-1.37c-.4-.4-.92-.59-1.43-.59-.52 0-1.04.2-1.43.59L10.3 9.45l-7.72 7.72c-.78.78-.78 2.05 0 2.83L4 21.41c.39.39.9.59 1.41.59.51 0 1.02-.2 1.41-.59l7.78-7.78 2.81-2.81c.8-.78.8-2.07 0-2.86zM5.41 20L4 18.59l7.72-7.72 1.47 1.35L5.41 20z\"/>\n",
              "  </svg>\n",
              "      </button>\n",
              "      \n",
              "  <style>\n",
              "    .colab-df-container {\n",
              "      display:flex;\n",
              "      flex-wrap:wrap;\n",
              "      gap: 12px;\n",
              "    }\n",
              "\n",
              "    .colab-df-convert {\n",
              "      background-color: #E8F0FE;\n",
              "      border: none;\n",
              "      border-radius: 50%;\n",
              "      cursor: pointer;\n",
              "      display: none;\n",
              "      fill: #1967D2;\n",
              "      height: 32px;\n",
              "      padding: 0 0 0 0;\n",
              "      width: 32px;\n",
              "    }\n",
              "\n",
              "    .colab-df-convert:hover {\n",
              "      background-color: #E2EBFA;\n",
              "      box-shadow: 0px 1px 2px rgba(60, 64, 67, 0.3), 0px 1px 3px 1px rgba(60, 64, 67, 0.15);\n",
              "      fill: #174EA6;\n",
              "    }\n",
              "\n",
              "    [theme=dark] .colab-df-convert {\n",
              "      background-color: #3B4455;\n",
              "      fill: #D2E3FC;\n",
              "    }\n",
              "\n",
              "    [theme=dark] .colab-df-convert:hover {\n",
              "      background-color: #434B5C;\n",
              "      box-shadow: 0px 1px 3px 1px rgba(0, 0, 0, 0.15);\n",
              "      filter: drop-shadow(0px 1px 2px rgba(0, 0, 0, 0.3));\n",
              "      fill: #FFFFFF;\n",
              "    }\n",
              "  </style>\n",
              "\n",
              "      <script>\n",
              "        const buttonEl =\n",
              "          document.querySelector('#df-ad9356b5-b001-4f29-b365-49411cfba041 button.colab-df-convert');\n",
              "        buttonEl.style.display =\n",
              "          google.colab.kernel.accessAllowed ? 'block' : 'none';\n",
              "\n",
              "        async function convertToInteractive(key) {\n",
              "          const element = document.querySelector('#df-ad9356b5-b001-4f29-b365-49411cfba041');\n",
              "          const dataTable =\n",
              "            await google.colab.kernel.invokeFunction('convertToInteractive',\n",
              "                                                     [key], {});\n",
              "          if (!dataTable) return;\n",
              "\n",
              "          const docLinkHtml = 'Like what you see? Visit the ' +\n",
              "            '<a target=\"_blank\" href=https://colab.research.google.com/notebooks/data_table.ipynb>data table notebook</a>'\n",
              "            + ' to learn more about interactive tables.';\n",
              "          element.innerHTML = '';\n",
              "          dataTable['output_type'] = 'display_data';\n",
              "          await google.colab.output.renderOutput(dataTable, element);\n",
              "          const docLink = document.createElement('div');\n",
              "          docLink.innerHTML = docLinkHtml;\n",
              "          element.appendChild(docLink);\n",
              "        }\n",
              "      </script>\n",
              "    </div>\n",
              "  </div>\n",
              "  "
            ]
          },
          "metadata": {},
          "execution_count": 38
        }
      ]
    },
    {
      "cell_type": "markdown",
      "source": [
        "`Q1. Answer`\n",
        "\n",
        "Qualitative Data  : StudentNo and Internship\n",
        "\n",
        "Quantitative Data : Degree, Intermediate and SSC\n"
      ],
      "metadata": {
        "id": "DXDskdB7fyRC"
      }
    },
    {
      "cell_type": "markdown",
      "source": [
        "Q2. Size of Data (No. of Rows and Columns)"
      ],
      "metadata": {
        "id": "TeOJuqODgNR0"
      }
    },
    {
      "cell_type": "code",
      "source": [
        "data.shape"
      ],
      "metadata": {
        "colab": {
          "base_uri": "https://localhost:8080/"
        },
        "id": "sBLvwJ0oCyL1",
        "outputId": "d6e451f9-cede-4061-ddb1-72374729a246"
      },
      "execution_count": 40,
      "outputs": [
        {
          "output_type": "execute_result",
          "data": {
            "text/plain": [
              "(297, 5)"
            ]
          },
          "metadata": {},
          "execution_count": 40
        }
      ]
    },
    {
      "cell_type": "markdown",
      "source": [
        "`Q2. Answer` \n",
        "\n",
        "Rows: 297\n",
        "\n",
        "Attributes: 5\n"
      ],
      "metadata": {
        "id": "7OFrKjs9gO_l"
      }
    },
    {
      "cell_type": "markdown",
      "source": [
        "Q3. Create Histogram"
      ],
      "metadata": {
        "id": "3Y-URJSEhbDs"
      }
    },
    {
      "cell_type": "code",
      "source": [
        "data.hist(figsize=(10,10))"
      ],
      "metadata": {
        "colab": {
          "base_uri": "https://localhost:8080/",
          "height": 695
        },
        "id": "dx6l7Pn6L59m",
        "outputId": "d1eef7ad-5995-43b6-a64d-7254bda72bd3"
      },
      "execution_count": 42,
      "outputs": [
        {
          "output_type": "execute_result",
          "data": {
            "text/plain": [
              "array([[<matplotlib.axes._subplots.AxesSubplot object at 0x7fac892f8e10>,\n",
              "        <matplotlib.axes._subplots.AxesSubplot object at 0x7fac892bb290>],\n",
              "       [<matplotlib.axes._subplots.AxesSubplot object at 0x7fac892ef890>,\n",
              "        <matplotlib.axes._subplots.AxesSubplot object at 0x7fac892a5e90>]],\n",
              "      dtype=object)"
            ]
          },
          "metadata": {},
          "execution_count": 42
        },
        {
          "output_type": "display_data",
          "data": {
            "text/plain": [
              "<Figure size 720x720 with 4 Axes>"
            ],
            "image/png": "[encoded data removed]"
          },
          "metadata": {
            "needs_background": "light"
          }
        }
      ]
    },
    {
      "cell_type": "markdown",
      "source": [
        "Q4. Create Pie-Chart to represent the Enrollments for each Internship Program"
      ],
      "metadata": {
        "id": "k-XsU-7uiJvn"
      }
    },
    {
      "cell_type": "code",
      "source": [
        "data['INTERNSHIP'].value_counts()"
      ],
      "metadata": {
        "id": "OIScRFjkXRrd",
        "colab": {
          "base_uri": "https://localhost:8080/"
        },
        "outputId": "5126d92a-1429-4559-f682-dfc15a275b13"
      },
      "execution_count": 48,
      "outputs": [
        {
          "output_type": "execute_result",
          "data": {
            "text/plain": [
              "Data Science                      156\n",
              "Cloud Computing Services (AWS)     90\n",
              "MEAN Stack Web Development         51\n",
              "Name: INTERNSHIP, dtype: int64"
            ]
          },
          "metadata": {},
          "execution_count": 48
        }
      ]
    },
    {
      "cell_type": "code",
      "source": [
        "courses=['Data Science','Cloud Computing Services (AWS)','MEAN Stack Web Development']\n",
        "students=[156,90,51]\n",
        "plt.pie(students, labels = courses,autopct='%1.2f%%')\n",
        "plt.show"
      ],
      "metadata": {
        "colab": {
          "base_uri": "https://localhost:8080/",
          "height": 265
        },
        "id": "GxIw8unalKOr",
        "outputId": "143ef523-9683-4c5c-80a0-a9d997ba697c"
      },
      "execution_count": 46,
      "outputs": [
        {
          "output_type": "execute_result",
          "data": {
            "text/plain": [
              "<function matplotlib.pyplot.show(*args, **kw)>"
            ]
          },
          "metadata": {},
          "execution_count": 46
        },
        {
          "output_type": "display_data",
          "data": {
            "text/plain": [
              "<Figure size 432x288 with 1 Axes>"
            ],
            "image/png": "[encoded data removed]"
          },
          "metadata": {}
        }
      ]
    },
    {
      "cell_type": "markdown",
      "source": [
        "Q5. Find No. of Enrollments for each Internship Program"
      ],
      "metadata": {
        "id": "AE7Gre-glSY9"
      }
    },
    {
      "cell_type": "code",
      "source": [
        "data['INTERNSHIP'].value_counts()"
      ],
      "metadata": {
        "colab": {
          "base_uri": "https://localhost:8080/"
        },
        "id": "1F0uRX45kltC",
        "outputId": "d8ce1ccf-cec1-4f06-8772-32b206f8e356"
      },
      "execution_count": 49,
      "outputs": [
        {
          "output_type": "execute_result",
          "data": {
            "text/plain": [
              "Data Science                      156\n",
              "Cloud Computing Services (AWS)     90\n",
              "MEAN Stack Web Development         51\n",
              "Name: INTERNSHIP, dtype: int64"
            ]
          },
          "metadata": {},
          "execution_count": 49
        }
      ]
    },
    {
      "cell_type": "markdown",
      "source": [
        "Q6. Find Measure of Central Tendency: MEAN, MEDIAN, MODE"
      ],
      "metadata": {
        "id": "CFXktxbLltuF"
      }
    },
    {
      "cell_type": "code",
      "source": [
        "# MEAN\n",
        "print(data.mean(numeric_only= True))\n"
      ],
      "metadata": {
        "colab": {
          "base_uri": "https://localhost:8080/"
        },
        "id": "6HJVbP7AlxVZ",
        "outputId": "5235c2ae-0752-408c-9f88-5087fea795a7"
      },
      "execution_count": 50,
      "outputs": [
        {
          "output_type": "stream",
          "name": "stdout",
          "text": [
            "DEGREE           7.928081\n",
            "INTERMEDIATE    88.662626\n",
            "SSC             88.106734\n",
            "dtype: float64\n"
          ]
        }
      ]
    },
    {
      "cell_type": "code",
      "source": [
        "# MEDIAN\n",
        "print(data.median(numeric_only= True))"
      ],
      "metadata": {
        "colab": {
          "base_uri": "https://localhost:8080/"
        },
        "id": "Fb4SSQA0m-l9",
        "outputId": "4a1603c8-87cc-43ab-8414-f113c750a7c9"
      },
      "execution_count": 52,
      "outputs": [
        {
          "output_type": "stream",
          "name": "stdout",
          "text": [
            "DEGREE           8.0\n",
            "INTERMEDIATE    90.8\n",
            "SSC             90.0\n",
            "dtype: float64\n"
          ]
        }
      ]
    },
    {
      "cell_type": "code",
      "source": [
        "# MODE\n",
        "print(data.mode(numeric_only= True))"
      ],
      "metadata": {
        "colab": {
          "base_uri": "https://localhost:8080/"
        },
        "id": "JhZmYV6znGIA",
        "outputId": "15f32e93-275f-4cb3-ea07-a911e3473b98"
      },
      "execution_count": 53,
      "outputs": [
        {
          "output_type": "stream",
          "name": "stdout",
          "text": [
            "   DEGREE  INTERMEDIATE   SSC\n",
            "0     7.0          95.0  95.0\n"
          ]
        }
      ]
    },
    {
      "cell_type": "markdown",
      "source": [
        "Q7. Find Measure of Variance: Minimum, Maximum, Range, Mean Deviation, Standard Deviation, Co-\n",
        "efficient of Variation\n"
      ],
      "metadata": {
        "id": "22KusScdnW1t"
      }
    },
    {
      "cell_type": "code",
      "source": [
        "# Minimum\n",
        "print(data.min(numeric_only= True))"
      ],
      "metadata": {
        "colab": {
          "base_uri": "https://localhost:8080/"
        },
        "id": "O8Kd7o84S0NK",
        "outputId": "a7d5666a-b40f-4a05-e372-16780e6627d3"
      },
      "execution_count": 55,
      "outputs": [
        {
          "output_type": "stream",
          "name": "stdout",
          "text": [
            "DEGREE           5.8\n",
            "INTERMEDIATE    65.0\n",
            "SSC             38.4\n",
            "dtype: float64\n"
          ]
        }
      ]
    },
    {
      "cell_type": "code",
      "source": [
        "# Maximum\n",
        "print(data.max(numeric_only= True))"
      ],
      "metadata": {
        "id": "rUJ6GMHWZ2Ex",
        "colab": {
          "base_uri": "https://localhost:8080/"
        },
        "outputId": "4ec7a18e-b52e-4b94-f7b7-642af019a23e"
      },
      "execution_count": 56,
      "outputs": [
        {
          "output_type": "stream",
          "name": "stdout",
          "text": [
            "DEGREE           9.53\n",
            "INTERMEDIATE    99.40\n",
            "SSC             99.00\n",
            "dtype: float64\n"
          ]
        }
      ]
    },
    {
      "cell_type": "code",
      "source": [
        "# Range\n",
        "print(data.max(numeric_only= True)-data.min(numeric_only= True))"
      ],
      "metadata": {
        "colab": {
          "base_uri": "https://localhost:8080/"
        },
        "id": "knWRHcEN2d_B",
        "outputId": "e85ffe46-9127-442e-9132-b7dec1c5da4b"
      },
      "execution_count": 58,
      "outputs": [
        {
          "output_type": "stream",
          "name": "stdout",
          "text": [
            "DEGREE           3.73\n",
            "INTERMEDIATE    34.40\n",
            "SSC             60.60\n",
            "dtype: float64\n"
          ]
        }
      ]
    },
    {
      "cell_type": "code",
      "source": [
        "# Standard  Deviation\n",
        "print(data.std(numeric_only= True))"
      ],
      "metadata": {
        "colab": {
          "base_uri": "https://localhost:8080/"
        },
        "id": "HURp8CsGoaWW",
        "outputId": "aa120e71-c04f-4755-f147-4194b97a3b7e"
      },
      "execution_count": 59,
      "outputs": [
        {
          "output_type": "stream",
          "name": "stdout",
          "text": [
            "DEGREE          0.785579\n",
            "INTERMEDIATE    7.355733\n",
            "SSC             9.027984\n",
            "dtype: float64\n"
          ]
        }
      ]
    },
    {
      "cell_type": "code",
      "source": [
        "# Co - effienct of Variation\n",
        "print(data.std(numeric_only= True)/data.mean(numeric_only= True))"
      ],
      "metadata": {
        "colab": {
          "base_uri": "https://localhost:8080/"
        },
        "id": "hph_0fxiolnE",
        "outputId": "936acd29-a82c-4d06-898b-05ee187aafff"
      },
      "execution_count": 60,
      "outputs": [
        {
          "output_type": "stream",
          "name": "stdout",
          "text": [
            "DEGREE          0.099088\n",
            "INTERMEDIATE    0.082963\n",
            "SSC             0.102466\n",
            "dtype: float64\n"
          ]
        }
      ]
    },
    {
      "cell_type": "markdown",
      "source": [
        "Q8. Measures of Position: Standard Scores, Inter-quartile Range for Degree, Inter and 10th"
      ],
      "metadata": {
        "id": "fKwHUXm1pE2m"
      }
    },
    {
      "cell_type": "code",
      "source": [
        "# 1st Quartile\n",
        "data.quantile(q=0.25, numeric_only=True)"
      ],
      "metadata": {
        "colab": {
          "base_uri": "https://localhost:8080/"
        },
        "id": "H3rpac5QpTAu",
        "outputId": "c1624670-56c6-40eb-bf0e-fda8a9646cda"
      },
      "execution_count": 61,
      "outputs": [
        {
          "output_type": "execute_result",
          "data": {
            "text/plain": [
              "DEGREE           7.4\n",
              "INTERMEDIATE    83.0\n",
              "SSC             85.0\n",
              "Name: 0.25, dtype: float64"
            ]
          },
          "metadata": {},
          "execution_count": 61
        }
      ]
    },
    {
      "cell_type": "code",
      "source": [
        "# 2nd Quartile\n",
        "data.quantile(q=0.5, numeric_only=True)"
      ],
      "metadata": {
        "colab": {
          "base_uri": "https://localhost:8080/"
        },
        "id": "Yf_Kicebpp40",
        "outputId": "b8136e95-f68a-4f16-b21e-b138e8dc252f"
      },
      "execution_count": 63,
      "outputs": [
        {
          "output_type": "execute_result",
          "data": {
            "text/plain": [
              "DEGREE           8.0\n",
              "INTERMEDIATE    90.8\n",
              "SSC             90.0\n",
              "Name: 0.5, dtype: float64"
            ]
          },
          "metadata": {},
          "execution_count": 63
        }
      ]
    },
    {
      "cell_type": "code",
      "source": [
        "# 3rd Quartile\n",
        "data.quantile(q=0.75, numeric_only=True)"
      ],
      "metadata": {
        "colab": {
          "base_uri": "https://localhost:8080/"
        },
        "id": "hW4BkFehp2g8",
        "outputId": "129e4e41-3c25-4fee-dfb6-2f7e263f02f8"
      },
      "execution_count": 65,
      "outputs": [
        {
          "output_type": "execute_result",
          "data": {
            "text/plain": [
              "DEGREE           8.56\n",
              "INTERMEDIATE    94.60\n",
              "SSC             95.00\n",
              "Name: 0.75, dtype: float64"
            ]
          },
          "metadata": {},
          "execution_count": 65
        }
      ]
    },
    {
      "cell_type": "code",
      "source": [
        "# Inter-Quartile = Q3 - Q1\n",
        "data.quantile(q=0.75, numeric_only=True) - data.quantile(q=0.25, numeric_only=True) "
      ],
      "metadata": {
        "colab": {
          "base_uri": "https://localhost:8080/"
        },
        "id": "gNFfQU7XqBhH",
        "outputId": "6faf1788-0195-4698-a165-e2107520cd11"
      },
      "execution_count": 66,
      "outputs": [
        {
          "output_type": "execute_result",
          "data": {
            "text/plain": [
              "DEGREE           1.16\n",
              "INTERMEDIATE    11.60\n",
              "SSC             10.00\n",
              "dtype: float64"
            ]
          },
          "metadata": {},
          "execution_count": 66
        }
      ]
    },
    {
      "cell_type": "markdown",
      "source": [
        "Q9. Create Box Plot and Identify Outliers"
      ],
      "metadata": {
        "id": "5GihdVjWqZua"
      }
    },
    {
      "cell_type": "code",
      "source": [
        "plt.boxplot(data['DEGREE'])\n",
        "plt.show"
      ],
      "metadata": {
        "colab": {
          "base_uri": "https://localhost:8080/",
          "height": 282
        },
        "id": "In3zlj7JqZP7",
        "outputId": "4aa87398-ecee-41bd-f326-0c84069ce2ec"
      },
      "execution_count": 67,
      "outputs": [
        {
          "output_type": "execute_result",
          "data": {
            "text/plain": [
              "<function matplotlib.pyplot.show(*args, **kw)>"
            ]
          },
          "metadata": {},
          "execution_count": 67
        },
        {
          "output_type": "display_data",
          "data": {
            "text/plain": [
              "<Figure size 432x288 with 1 Axes>"
            ],
            "image/png": "[encoded data removed]"
          },
          "metadata": {
            "needs_background": "light"
          }
        }
      ]
    },
    {
      "cell_type": "code",
      "source": [
        "plt.boxplot(data['INTERMEDIATE'])\n",
        "plt.show"
      ],
      "metadata": {
        "colab": {
          "base_uri": "https://localhost:8080/",
          "height": 282
        },
        "id": "Y84PgvCiqiRP",
        "outputId": "7a2f0a36-e57c-4ef5-9771-96e7a6deade5"
      },
      "execution_count": 68,
      "outputs": [
        {
          "output_type": "execute_result",
          "data": {
            "text/plain": [
              "<function matplotlib.pyplot.show(*args, **kw)>"
            ]
          },
          "metadata": {},
          "execution_count": 68
        },
        {
          "output_type": "display_data",
          "data": {
            "text/plain": [
              "<Figure size 432x288 with 1 Axes>"
            ],
            "image/png": "[encoded data removed]"
          },
          "metadata": {
            "needs_background": "light"
          }
        }
      ]
    },
    {
      "cell_type": "code",
      "source": [
        "plt.boxplot(data['SSC'])\n",
        "plt.show"
      ],
      "metadata": {
        "colab": {
          "base_uri": "https://localhost:8080/",
          "height": 282
        },
        "id": "K048wlPh2tdl",
        "outputId": "7ef31894-70f1-45bf-bddd-4caf948b362d"
      },
      "execution_count": 69,
      "outputs": [
        {
          "output_type": "execute_result",
          "data": {
            "text/plain": [
              "<function matplotlib.pyplot.show(*args, **kw)>"
            ]
          },
          "metadata": {},
          "execution_count": 69
        },
        {
          "output_type": "display_data",
          "data": {
            "text/plain": [
              "<Figure size 432x288 with 1 Axes>"
            ],
            "image/png": "[encoded data removed]"
          },
          "metadata": {
            "needs_background": "light"
          }
        }
      ]
    },
    {
      "cell_type": "markdown",
      "source": [
        "Q10. Identify No. of Students with 90% percentile for Degree, Inter and 10th Class"
      ],
      "metadata": {
        "id": "TyK-Jw6Bq3r5"
      }
    },
    {
      "cell_type": "code",
      "source": [
        "# 90th Percentile or Quantile\n",
        "data.quantile(q=0.9, numeric_only=True)"
      ],
      "metadata": {
        "colab": {
          "base_uri": "https://localhost:8080/"
        },
        "id": "U1C1BqzrwOy-",
        "outputId": "5a433050-229d-4e3b-d24d-f32e56ab49db"
      },
      "execution_count": 70,
      "outputs": [
        {
          "output_type": "execute_result",
          "data": {
            "text/plain": [
              "DEGREE           8.9\n",
              "INTERMEDIATE    96.5\n",
              "SSC             97.0\n",
              "Name: 0.9, dtype: float64"
            ]
          },
          "metadata": {},
          "execution_count": 70
        }
      ]
    },
    {
      "cell_type": "code",
      "source": [
        "df1 = data[data.DEGREE>8.9]\n",
        "df1.head(10)"
      ],
      "metadata": {
        "colab": {
          "base_uri": "https://localhost:8080/",
          "height": 363
        },
        "id": "-5QjYzCexIf4",
        "outputId": "9f145f48-1485-4336-ad5e-66d074d39c7d"
      },
      "execution_count": 75,
      "outputs": [
        {
          "output_type": "execute_result",
          "data": {
            "text/plain": [
              "   StudentNo  DEGREE  INTERMEDIATE   SSC                      INTERNSHIP\n",
              "3       1004    9.03          89.5  89.0                    Data Science\n",
              "14      1015    9.07          95.0  98.0  Cloud Computing Services (AWS)\n",
              "16      1017    9.53          98.2  93.1      MEAN Stack Web Development\n",
              "17      1018    9.08          95.2  83.0      MEAN Stack Web Development\n",
              "19      1020    9.16          98.0  87.0                    Data Science\n",
              "20      1021    9.00          96.8  99.0                    Data Science\n",
              "24      1025    9.08          97.2  97.0                    Data Science\n",
              "28      1029    8.92          89.7  83.0  Cloud Computing Services (AWS)\n",
              "39      1040    9.03          96.5  97.0                    Data Science\n",
              "40      1041    9.34          97.7  97.0                    Data Science"
            ],
            "text/html": [
              "\n",
              "  <div id=\"df-2ac5bb4e-8f28-46ce-a421-3ace60100547\">\n",
              "    <div class=\"colab-df-container\">\n",
              "      <div>\n",
              "<style scoped>\n",
              "    .dataframe tbody tr th:only-of-type {\n",
              "        vertical-align: middle;\n",
              "    }\n",
              "\n",
              "    .dataframe tbody tr th {\n",
              "        vertical-align: top;\n",
              "    }\n",
              "\n",
              "    .dataframe thead th {\n",
              "        text-align: right;\n",
              "    }\n",
              "</style>\n",
              "<table border=\"1\" class=\"dataframe\">\n",
              "  <thead>\n",
              "    <tr style=\"text-align: right;\">\n",
              "      <th></th>\n",
              "      <th>StudentNo</th>\n",
              "      <th>DEGREE</th>\n",
              "      <th>INTERMEDIATE</th>\n",
              "      <th>SSC</th>\n",
              "      <th>INTERNSHIP</th>\n",
              "    </tr>\n",
              "  </thead>\n",
              "  <tbody>\n",
              "    <tr>\n",
              "      <th>3</th>\n",
              "      <td>1004</td>\n",
              "      <td>9.03</td>\n",
              "      <td>89.5</td>\n",
              "      <td>89.0</td>\n",
              "      <td>Data Science</td>\n",
              "    </tr>\n",
              "    <tr>\n",
              "      <th>14</th>\n",
              "      <td>1015</td>\n",
              "      <td>9.07</td>\n",
              "      <td>95.0</td>\n",
              "      <td>98.0</td>\n",
              "      <td>Cloud Computing Services (AWS)</td>\n",
              "    </tr>\n",
              "    <tr>\n",
              "      <th>16</th>\n",
              "      <td>1017</td>\n",
              "      <td>9.53</td>\n",
              "      <td>98.2</td>\n",
              "      <td>93.1</td>\n",
              "      <td>MEAN Stack Web Development</td>\n",
              "    </tr>\n",
              "    <tr>\n",
              "      <th>17</th>\n",
              "      <td>1018</td>\n",
              "      <td>9.08</td>\n",
              "      <td>95.2</td>\n",
              "      <td>83.0</td>\n",
              "      <td>MEAN Stack Web Development</td>\n",
              "    </tr>\n",
              "    <tr>\n",
              "      <th>19</th>\n",
              "      <td>1020</td>\n",
              "      <td>9.16</td>\n",
              "      <td>98.0</td>\n",
              "      <td>87.0</td>\n",
              "      <td>Data Science</td>\n",
              "    </tr>\n",
              "    <tr>\n",
              "      <th>20</th>\n",
              "      <td>1021</td>\n",
              "      <td>9.00</td>\n",
              "      <td>96.8</td>\n",
              "      <td>99.0</td>\n",
              "      <td>Data Science</td>\n",
              "    </tr>\n",
              "    <tr>\n",
              "      <th>24</th>\n",
              "      <td>1025</td>\n",
              "      <td>9.08</td>\n",
              "      <td>97.2</td>\n",
              "      <td>97.0</td>\n",
              "      <td>Data Science</td>\n",
              "    </tr>\n",
              "    <tr>\n",
              "      <th>28</th>\n",
              "      <td>1029</td>\n",
              "      <td>8.92</td>\n",
              "      <td>89.7</td>\n",
              "      <td>83.0</td>\n",
              "      <td>Cloud Computing Services (AWS)</td>\n",
              "    </tr>\n",
              "    <tr>\n",
              "      <th>39</th>\n",
              "      <td>1040</td>\n",
              "      <td>9.03</td>\n",
              "      <td>96.5</td>\n",
              "      <td>97.0</td>\n",
              "      <td>Data Science</td>\n",
              "    </tr>\n",
              "    <tr>\n",
              "      <th>40</th>\n",
              "      <td>1041</td>\n",
              "      <td>9.34</td>\n",
              "      <td>97.7</td>\n",
              "      <td>97.0</td>\n",
              "      <td>Data Science</td>\n",
              "    </tr>\n",
              "  </tbody>\n",
              "</table>\n",
              "</div>\n",
              "      <button class=\"colab-df-convert\" onclick=\"convertToInteractive('df-2ac5bb4e-8f28-46ce-a421-3ace60100547')\"\n",
              "              title=\"Convert this dataframe to an interactive table.\"\n",
              "              style=\"display:none;\">\n",
              "        \n",
              "  <svg xmlns=\"http://www.w3.org/2000/svg\" height=\"24px\"viewBox=\"0 0 24 24\"\n",
              "       width=\"24px\">\n",
              "    <path d=\"M0 0h24v24H0V0z\" fill=\"none\"/>\n",
              "    <path d=\"M18.56 5.44l.94 2.06.94-2.06 2.06-.94-2.06-.94-.94-2.06-.94 2.06-2.06.94zm-11 1L8.5 8.5l.94-2.06 2.06-.94-2.06-.94L8.5 2.5l-.94 2.06-2.06.94zm10 10l.94 2.06.94-2.06 2.06-.94-2.06-.94-.94-2.06-.94 2.06-2.06.94z\"/><path d=\"M17.41 7.96l-1.37-1.37c-.4-.4-.92-.59-1.43-.59-.52 0-1.04.2-1.43.59L10.3 9.45l-7.72 7.72c-.78.78-.78 2.05 0 2.83L4 21.41c.39.39.9.59 1.41.59.51 0 1.02-.2 1.41-.59l7.78-7.78 2.81-2.81c.8-.78.8-2.07 0-2.86zM5.41 20L4 18.59l7.72-7.72 1.47 1.35L5.41 20z\"/>\n",
              "  </svg>\n",
              "      </button>\n",
              "      \n",
              "  <style>\n",
              "    .colab-df-container {\n",
              "      display:flex;\n",
              "      flex-wrap:wrap;\n",
              "      gap: 12px;\n",
              "    }\n",
              "\n",
              "    .colab-df-convert {\n",
              "      background-color: #E8F0FE;\n",
              "      border: none;\n",
              "      border-radius: 50%;\n",
              "      cursor: pointer;\n",
              "      display: none;\n",
              "      fill: #1967D2;\n",
              "      height: 32px;\n",
              "      padding: 0 0 0 0;\n",
              "      width: 32px;\n",
              "    }\n",
              "\n",
              "    .colab-df-convert:hover {\n",
              "      background-color: #E2EBFA;\n",
              "      box-shadow: 0px 1px 2px rgba(60, 64, 67, 0.3), 0px 1px 3px 1px rgba(60, 64, 67, 0.15);\n",
              "      fill: #174EA6;\n",
              "    }\n",
              "\n",
              "    [theme=dark] .colab-df-convert {\n",
              "      background-color: #3B4455;\n",
              "      fill: #D2E3FC;\n",
              "    }\n",
              "\n",
              "    [theme=dark] .colab-df-convert:hover {\n",
              "      background-color: #434B5C;\n",
              "      box-shadow: 0px 1px 3px 1px rgba(0, 0, 0, 0.15);\n",
              "      filter: drop-shadow(0px 1px 2px rgba(0, 0, 0, 0.3));\n",
              "      fill: #FFFFFF;\n",
              "    }\n",
              "  </style>\n",
              "\n",
              "      <script>\n",
              "        const buttonEl =\n",
              "          document.querySelector('#df-2ac5bb4e-8f28-46ce-a421-3ace60100547 button.colab-df-convert');\n",
              "        buttonEl.style.display =\n",
              "          google.colab.kernel.accessAllowed ? 'block' : 'none';\n",
              "\n",
              "        async function convertToInteractive(key) {\n",
              "          const element = document.querySelector('#df-2ac5bb4e-8f28-46ce-a421-3ace60100547');\n",
              "          const dataTable =\n",
              "            await google.colab.kernel.invokeFunction('convertToInteractive',\n",
              "                                                     [key], {});\n",
              "          if (!dataTable) return;\n",
              "\n",
              "          const docLinkHtml = 'Like what you see? Visit the ' +\n",
              "            '<a target=\"_blank\" href=https://colab.research.google.com/notebooks/data_table.ipynb>data table notebook</a>'\n",
              "            + ' to learn more about interactive tables.';\n",
              "          element.innerHTML = '';\n",
              "          dataTable['output_type'] = 'display_data';\n",
              "          await google.colab.output.renderOutput(dataTable, element);\n",
              "          const docLink = document.createElement('div');\n",
              "          docLink.innerHTML = docLinkHtml;\n",
              "          element.appendChild(docLink);\n",
              "        }\n",
              "      </script>\n",
              "    </div>\n",
              "  </div>\n",
              "  "
            ]
          },
          "metadata": {},
          "execution_count": 75
        }
      ]
    },
    {
      "cell_type": "code",
      "source": [
        "df1.shape"
      ],
      "metadata": {
        "colab": {
          "base_uri": "https://localhost:8080/"
        },
        "id": "jRYIlsoUyw9B",
        "outputId": "ee9db68b-3053-4611-edd5-45cee2dbfb34"
      },
      "execution_count": 85,
      "outputs": [
        {
          "output_type": "execute_result",
          "data": {
            "text/plain": [
              "(29, 5)"
            ]
          },
          "metadata": {},
          "execution_count": 85
        }
      ]
    },
    {
      "cell_type": "code",
      "source": [
        "df2 = data[data.INTERMEDIATE>96.5]\n",
        "df2.head(10)"
      ],
      "metadata": {
        "colab": {
          "base_uri": "https://localhost:8080/",
          "height": 363
        },
        "id": "nYqTX3BrxUmo",
        "outputId": "75b34d9b-8245-4300-d5a4-9d2f7e4f7f7e"
      },
      "execution_count": 83,
      "outputs": [
        {
          "output_type": "execute_result",
          "data": {
            "text/plain": [
              "    StudentNo  DEGREE  INTERMEDIATE   SSC                      INTERNSHIP\n",
              "16       1017    9.53          98.2  93.1      MEAN Stack Web Development\n",
              "19       1020    9.16          98.0  87.0                    Data Science\n",
              "20       1021    9.00          96.8  99.0                    Data Science\n",
              "24       1025    9.08          97.2  97.0                    Data Science\n",
              "40       1041    9.34          97.7  97.0                    Data Science\n",
              "60       1061    8.80          97.3  92.0                    Data Science\n",
              "96       1097    9.20          97.8  90.0                    Data Science\n",
              "127      2023    9.20          97.2  92.0      MEAN Stack Web Development\n",
              "138      2034    9.38          98.2  87.0                    Data Science\n",
              "154      2050    9.20          97.2  90.0  Cloud Computing Services (AWS)"
            ],
            "text/html": [
              "\n",
              "  <div id=\"df-137ad40d-3121-4833-84a8-6c0cbb5cfdd7\">\n",
              "    <div class=\"colab-df-container\">\n",
              "      <div>\n",
              "<style scoped>\n",
              "    .dataframe tbody tr th:only-of-type {\n",
              "        vertical-align: middle;\n",
              "    }\n",
              "\n",
              "    .dataframe tbody tr th {\n",
              "        vertical-align: top;\n",
              "    }\n",
              "\n",
              "    .dataframe thead th {\n",
              "        text-align: right;\n",
              "    }\n",
              "</style>\n",
              "<table border=\"1\" class=\"dataframe\">\n",
              "  <thead>\n",
              "    <tr style=\"text-align: right;\">\n",
              "      <th></th>\n",
              "      <th>StudentNo</th>\n",
              "      <th>DEGREE</th>\n",
              "      <th>INTERMEDIATE</th>\n",
              "      <th>SSC</th>\n",
              "      <th>INTERNSHIP</th>\n",
              "    </tr>\n",
              "  </thead>\n",
              "  <tbody>\n",
              "    <tr>\n",
              "      <th>16</th>\n",
              "      <td>1017</td>\n",
              "      <td>9.53</td>\n",
              "      <td>98.2</td>\n",
              "      <td>93.1</td>\n",
              "      <td>MEAN Stack Web Development</td>\n",
              "    </tr>\n",
              "    <tr>\n",
              "      <th>19</th>\n",
              "      <td>1020</td>\n",
              "      <td>9.16</td>\n",
              "      <td>98.0</td>\n",
              "      <td>87.0</td>\n",
              "      <td>Data Science</td>\n",
              "    </tr>\n",
              "    <tr>\n",
              "      <th>20</th>\n",
              "      <td>1021</td>\n",
              "      <td>9.00</td>\n",
              "      <td>96.8</td>\n",
              "      <td>99.0</td>\n",
              "      <td>Data Science</td>\n",
              "    </tr>\n",
              "    <tr>\n",
              "      <th>24</th>\n",
              "      <td>1025</td>\n",
              "      <td>9.08</td>\n",
              "      <td>97.2</td>\n",
              "      <td>97.0</td>\n",
              "      <td>Data Science</td>\n",
              "    </tr>\n",
              "    <tr>\n",
              "      <th>40</th>\n",
              "      <td>1041</td>\n",
              "      <td>9.34</td>\n",
              "      <td>97.7</td>\n",
              "      <td>97.0</td>\n",
              "      <td>Data Science</td>\n",
              "    </tr>\n",
              "    <tr>\n",
              "      <th>60</th>\n",
              "      <td>1061</td>\n",
              "      <td>8.80</td>\n",
              "      <td>97.3</td>\n",
              "      <td>92.0</td>\n",
              "      <td>Data Science</td>\n",
              "    </tr>\n",
              "    <tr>\n",
              "      <th>96</th>\n",
              "      <td>1097</td>\n",
              "      <td>9.20</td>\n",
              "      <td>97.8</td>\n",
              "      <td>90.0</td>\n",
              "      <td>Data Science</td>\n",
              "    </tr>\n",
              "    <tr>\n",
              "      <th>127</th>\n",
              "      <td>2023</td>\n",
              "      <td>9.20</td>\n",
              "      <td>97.2</td>\n",
              "      <td>92.0</td>\n",
              "      <td>MEAN Stack Web Development</td>\n",
              "    </tr>\n",
              "    <tr>\n",
              "      <th>138</th>\n",
              "      <td>2034</td>\n",
              "      <td>9.38</td>\n",
              "      <td>98.2</td>\n",
              "      <td>87.0</td>\n",
              "      <td>Data Science</td>\n",
              "    </tr>\n",
              "    <tr>\n",
              "      <th>154</th>\n",
              "      <td>2050</td>\n",
              "      <td>9.20</td>\n",
              "      <td>97.2</td>\n",
              "      <td>90.0</td>\n",
              "      <td>Cloud Computing Services (AWS)</td>\n",
              "    </tr>\n",
              "  </tbody>\n",
              "</table>\n",
              "</div>\n",
              "      <button class=\"colab-df-convert\" onclick=\"convertToInteractive('df-137ad40d-3121-4833-84a8-6c0cbb5cfdd7')\"\n",
              "              title=\"Convert this dataframe to an interactive table.\"\n",
              "              style=\"display:none;\">\n",
              "        \n",
              "  <svg xmlns=\"http://www.w3.org/2000/svg\" height=\"24px\"viewBox=\"0 0 24 24\"\n",
              "       width=\"24px\">\n",
              "    <path d=\"M0 0h24v24H0V0z\" fill=\"none\"/>\n",
              "    <path d=\"M18.56 5.44l.94 2.06.94-2.06 2.06-.94-2.06-.94-.94-2.06-.94 2.06-2.06.94zm-11 1L8.5 8.5l.94-2.06 2.06-.94-2.06-.94L8.5 2.5l-.94 2.06-2.06.94zm10 10l.94 2.06.94-2.06 2.06-.94-2.06-.94-.94-2.06-.94 2.06-2.06.94z\"/><path d=\"M17.41 7.96l-1.37-1.37c-.4-.4-.92-.59-1.43-.59-.52 0-1.04.2-1.43.59L10.3 9.45l-7.72 7.72c-.78.78-.78 2.05 0 2.83L4 21.41c.39.39.9.59 1.41.59.51 0 1.02-.2 1.41-.59l7.78-7.78 2.81-2.81c.8-.78.8-2.07 0-2.86zM5.41 20L4 18.59l7.72-7.72 1.47 1.35L5.41 20z\"/>\n",
              "  </svg>\n",
              "      </button>\n",
              "      \n",
              "  <style>\n",
              "    .colab-df-container {\n",
              "      display:flex;\n",
              "      flex-wrap:wrap;\n",
              "      gap: 12px;\n",
              "    }\n",
              "\n",
              "    .colab-df-convert {\n",
              "      background-color: #E8F0FE;\n",
              "      border: none;\n",
              "      border-radius: 50%;\n",
              "      cursor: pointer;\n",
              "      display: none;\n",
              "      fill: #1967D2;\n",
              "      height: 32px;\n",
              "      padding: 0 0 0 0;\n",
              "      width: 32px;\n",
              "    }\n",
              "\n",
              "    .colab-df-convert:hover {\n",
              "      background-color: #E2EBFA;\n",
              "      box-shadow: 0px 1px 2px rgba(60, 64, 67, 0.3), 0px 1px 3px 1px rgba(60, 64, 67, 0.15);\n",
              "      fill: #174EA6;\n",
              "    }\n",
              "\n",
              "    [theme=dark] .colab-df-convert {\n",
              "      background-color: #3B4455;\n",
              "      fill: #D2E3FC;\n",
              "    }\n",
              "\n",
              "    [theme=dark] .colab-df-convert:hover {\n",
              "      background-color: #434B5C;\n",
              "      box-shadow: 0px 1px 3px 1px rgba(0, 0, 0, 0.15);\n",
              "      filter: drop-shadow(0px 1px 2px rgba(0, 0, 0, 0.3));\n",
              "      fill: #FFFFFF;\n",
              "    }\n",
              "  </style>\n",
              "\n",
              "      <script>\n",
              "        const buttonEl =\n",
              "          document.querySelector('#df-137ad40d-3121-4833-84a8-6c0cbb5cfdd7 button.colab-df-convert');\n",
              "        buttonEl.style.display =\n",
              "          google.colab.kernel.accessAllowed ? 'block' : 'none';\n",
              "\n",
              "        async function convertToInteractive(key) {\n",
              "          const element = document.querySelector('#df-137ad40d-3121-4833-84a8-6c0cbb5cfdd7');\n",
              "          const dataTable =\n",
              "            await google.colab.kernel.invokeFunction('convertToInteractive',\n",
              "                                                     [key], {});\n",
              "          if (!dataTable) return;\n",
              "\n",
              "          const docLinkHtml = 'Like what you see? Visit the ' +\n",
              "            '<a target=\"_blank\" href=https://colab.research.google.com/notebooks/data_table.ipynb>data table notebook</a>'\n",
              "            + ' to learn more about interactive tables.';\n",
              "          element.innerHTML = '';\n",
              "          dataTable['output_type'] = 'display_data';\n",
              "          await google.colab.output.renderOutput(dataTable, element);\n",
              "          const docLink = document.createElement('div');\n",
              "          docLink.innerHTML = docLinkHtml;\n",
              "          element.appendChild(docLink);\n",
              "        }\n",
              "      </script>\n",
              "    </div>\n",
              "  </div>\n",
              "  "
            ]
          },
          "metadata": {},
          "execution_count": 83
        }
      ]
    },
    {
      "cell_type": "code",
      "source": [
        "df2.shape"
      ],
      "metadata": {
        "colab": {
          "base_uri": "https://localhost:8080/"
        },
        "id": "HOMYgoHiyqdy",
        "outputId": "f4e6c35c-254d-48bd-8f1c-256121548582"
      },
      "execution_count": 84,
      "outputs": [
        {
          "output_type": "execute_result",
          "data": {
            "text/plain": [
              "(29, 5)"
            ]
          },
          "metadata": {},
          "execution_count": 84
        }
      ]
    },
    {
      "cell_type": "code",
      "source": [
        "df3 = data[data.SSC   >  97.0]\n",
        "df3.head(10)"
      ],
      "metadata": {
        "colab": {
          "base_uri": "https://localhost:8080/",
          "height": 363
        },
        "id": "MTiuemRHx1GD",
        "outputId": "5cfe23b9-98fc-46ad-af2e-f14315ac53eb"
      },
      "execution_count": 80,
      "outputs": [
        {
          "output_type": "execute_result",
          "data": {
            "text/plain": [
              "    StudentNo  DEGREE  INTERMEDIATE   SSC                      INTERNSHIP\n",
              "9        1010    8.30          87.0  98.0      MEAN Stack Web Development\n",
              "14       1015    9.07          95.0  98.0  Cloud Computing Services (AWS)\n",
              "20       1021    9.00          96.8  99.0                    Data Science\n",
              "21       1022    8.00          95.2  98.0                    Data Science\n",
              "76       1077    8.70          93.0  98.0                    Data Science\n",
              "95       1096    8.83          94.7  98.0                    Data Science\n",
              "122      2018    7.00          92.0  98.0  Cloud Computing Services (AWS)\n",
              "126      2022    7.03          72.0  98.0  Cloud Computing Services (AWS)\n",
              "145      2041    8.76          94.5  98.0                    Data Science\n",
              "147      2043    8.60          94.0  98.0      MEAN Stack Web Development"
            ],
            "text/html": [
              "\n",
              "  <div id=\"df-2bb1d404-a74d-4e41-93cc-69ec7b2104fc\">\n",
              "    <div class=\"colab-df-container\">\n",
              "      <div>\n",
              "<style scoped>\n",
              "    .dataframe tbody tr th:only-of-type {\n",
              "        vertical-align: middle;\n",
              "    }\n",
              "\n",
              "    .dataframe tbody tr th {\n",
              "        vertical-align: top;\n",
              "    }\n",
              "\n",
              "    .dataframe thead th {\n",
              "        text-align: right;\n",
              "    }\n",
              "</style>\n",
              "<table border=\"1\" class=\"dataframe\">\n",
              "  <thead>\n",
              "    <tr style=\"text-align: right;\">\n",
              "      <th></th>\n",
              "      <th>StudentNo</th>\n",
              "      <th>DEGREE</th>\n",
              "      <th>INTERMEDIATE</th>\n",
              "      <th>SSC</th>\n",
              "      <th>INTERNSHIP</th>\n",
              "    </tr>\n",
              "  </thead>\n",
              "  <tbody>\n",
              "    <tr>\n",
              "      <th>9</th>\n",
              "      <td>1010</td>\n",
              "      <td>8.30</td>\n",
              "      <td>87.0</td>\n",
              "      <td>98.0</td>\n",
              "      <td>MEAN Stack Web Development</td>\n",
              "    </tr>\n",
              "    <tr>\n",
              "      <th>14</th>\n",
              "      <td>1015</td>\n",
              "      <td>9.07</td>\n",
              "      <td>95.0</td>\n",
              "      <td>98.0</td>\n",
              "      <td>Cloud Computing Services (AWS)</td>\n",
              "    </tr>\n",
              "    <tr>\n",
              "      <th>20</th>\n",
              "      <td>1021</td>\n",
              "      <td>9.00</td>\n",
              "      <td>96.8</td>\n",
              "      <td>99.0</td>\n",
              "      <td>Data Science</td>\n",
              "    </tr>\n",
              "    <tr>\n",
              "      <th>21</th>\n",
              "      <td>1022</td>\n",
              "      <td>8.00</td>\n",
              "      <td>95.2</td>\n",
              "      <td>98.0</td>\n",
              "      <td>Data Science</td>\n",
              "    </tr>\n",
              "    <tr>\n",
              "      <th>76</th>\n",
              "      <td>1077</td>\n",
              "      <td>8.70</td>\n",
              "      <td>93.0</td>\n",
              "      <td>98.0</td>\n",
              "      <td>Data Science</td>\n",
              "    </tr>\n",
              "    <tr>\n",
              "      <th>95</th>\n",
              "      <td>1096</td>\n",
              "      <td>8.83</td>\n",
              "      <td>94.7</td>\n",
              "      <td>98.0</td>\n",
              "      <td>Data Science</td>\n",
              "    </tr>\n",
              "    <tr>\n",
              "      <th>122</th>\n",
              "      <td>2018</td>\n",
              "      <td>7.00</td>\n",
              "      <td>92.0</td>\n",
              "      <td>98.0</td>\n",
              "      <td>Cloud Computing Services (AWS)</td>\n",
              "    </tr>\n",
              "    <tr>\n",
              "      <th>126</th>\n",
              "      <td>2022</td>\n",
              "      <td>7.03</td>\n",
              "      <td>72.0</td>\n",
              "      <td>98.0</td>\n",
              "      <td>Cloud Computing Services (AWS)</td>\n",
              "    </tr>\n",
              "    <tr>\n",
              "      <th>145</th>\n",
              "      <td>2041</td>\n",
              "      <td>8.76</td>\n",
              "      <td>94.5</td>\n",
              "      <td>98.0</td>\n",
              "      <td>Data Science</td>\n",
              "    </tr>\n",
              "    <tr>\n",
              "      <th>147</th>\n",
              "      <td>2043</td>\n",
              "      <td>8.60</td>\n",
              "      <td>94.0</td>\n",
              "      <td>98.0</td>\n",
              "      <td>MEAN Stack Web Development</td>\n",
              "    </tr>\n",
              "  </tbody>\n",
              "</table>\n",
              "</div>\n",
              "      <button class=\"colab-df-convert\" onclick=\"convertToInteractive('df-2bb1d404-a74d-4e41-93cc-69ec7b2104fc')\"\n",
              "              title=\"Convert this dataframe to an interactive table.\"\n",
              "              style=\"display:none;\">\n",
              "        \n",
              "  <svg xmlns=\"http://www.w3.org/2000/svg\" height=\"24px\"viewBox=\"0 0 24 24\"\n",
              "       width=\"24px\">\n",
              "    <path d=\"M0 0h24v24H0V0z\" fill=\"none\"/>\n",
              "    <path d=\"M18.56 5.44l.94 2.06.94-2.06 2.06-.94-2.06-.94-.94-2.06-.94 2.06-2.06.94zm-11 1L8.5 8.5l.94-2.06 2.06-.94-2.06-.94L8.5 2.5l-.94 2.06-2.06.94zm10 10l.94 2.06.94-2.06 2.06-.94-2.06-.94-.94-2.06-.94 2.06-2.06.94z\"/><path d=\"M17.41 7.96l-1.37-1.37c-.4-.4-.92-.59-1.43-.59-.52 0-1.04.2-1.43.59L10.3 9.45l-7.72 7.72c-.78.78-.78 2.05 0 2.83L4 21.41c.39.39.9.59 1.41.59.51 0 1.02-.2 1.41-.59l7.78-7.78 2.81-2.81c.8-.78.8-2.07 0-2.86zM5.41 20L4 18.59l7.72-7.72 1.47 1.35L5.41 20z\"/>\n",
              "  </svg>\n",
              "      </button>\n",
              "      \n",
              "  <style>\n",
              "    .colab-df-container {\n",
              "      display:flex;\n",
              "      flex-wrap:wrap;\n",
              "      gap: 12px;\n",
              "    }\n",
              "\n",
              "    .colab-df-convert {\n",
              "      background-color: #E8F0FE;\n",
              "      border: none;\n",
              "      border-radius: 50%;\n",
              "      cursor: pointer;\n",
              "      display: none;\n",
              "      fill: #1967D2;\n",
              "      height: 32px;\n",
              "      padding: 0 0 0 0;\n",
              "      width: 32px;\n",
              "    }\n",
              "\n",
              "    .colab-df-convert:hover {\n",
              "      background-color: #E2EBFA;\n",
              "      box-shadow: 0px 1px 2px rgba(60, 64, 67, 0.3), 0px 1px 3px 1px rgba(60, 64, 67, 0.15);\n",
              "      fill: #174EA6;\n",
              "    }\n",
              "\n",
              "    [theme=dark] .colab-df-convert {\n",
              "      background-color: #3B4455;\n",
              "      fill: #D2E3FC;\n",
              "    }\n",
              "\n",
              "    [theme=dark] .colab-df-convert:hover {\n",
              "      background-color: #434B5C;\n",
              "      box-shadow: 0px 1px 3px 1px rgba(0, 0, 0, 0.15);\n",
              "      filter: drop-shadow(0px 1px 2px rgba(0, 0, 0, 0.3));\n",
              "      fill: #FFFFFF;\n",
              "    }\n",
              "  </style>\n",
              "\n",
              "      <script>\n",
              "        const buttonEl =\n",
              "          document.querySelector('#df-2bb1d404-a74d-4e41-93cc-69ec7b2104fc button.colab-df-convert');\n",
              "        buttonEl.style.display =\n",
              "          google.colab.kernel.accessAllowed ? 'block' : 'none';\n",
              "\n",
              "        async function convertToInteractive(key) {\n",
              "          const element = document.querySelector('#df-2bb1d404-a74d-4e41-93cc-69ec7b2104fc');\n",
              "          const dataTable =\n",
              "            await google.colab.kernel.invokeFunction('convertToInteractive',\n",
              "                                                     [key], {});\n",
              "          if (!dataTable) return;\n",
              "\n",
              "          const docLinkHtml = 'Like what you see? Visit the ' +\n",
              "            '<a target=\"_blank\" href=https://colab.research.google.com/notebooks/data_table.ipynb>data table notebook</a>'\n",
              "            + ' to learn more about interactive tables.';\n",
              "          element.innerHTML = '';\n",
              "          dataTable['output_type'] = 'display_data';\n",
              "          await google.colab.output.renderOutput(dataTable, element);\n",
              "          const docLink = document.createElement('div');\n",
              "          docLink.innerHTML = docLinkHtml;\n",
              "          element.appendChild(docLink);\n",
              "        }\n",
              "      </script>\n",
              "    </div>\n",
              "  </div>\n",
              "  "
            ]
          },
          "metadata": {},
          "execution_count": 80
        }
      ]
    },
    {
      "cell_type": "code",
      "source": [
        "df3.shape"
      ],
      "metadata": {
        "colab": {
          "base_uri": "https://localhost:8080/"
        },
        "id": "TAXPTwlKygsS",
        "outputId": "3919237b-19f0-485e-8b3f-49af084580dd"
      },
      "execution_count": 82,
      "outputs": [
        {
          "output_type": "execute_result",
          "data": {
            "text/plain": [
              "(21, 5)"
            ]
          },
          "metadata": {},
          "execution_count": 82
        }
      ]
    }
  ]
}